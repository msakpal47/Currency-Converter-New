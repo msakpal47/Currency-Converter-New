{
 "cells": [
  {
   "cell_type": "code",
   "execution_count": 1,
   "id": "a5b751af",
   "metadata": {},
   "outputs": [
    {
     "name": "stdout",
     "output_type": "stream",
     "text": [
      "Requirement already satisfied: requests in c:\\users\\c-dot\\anaconda3\\lib\\site-packages (2.31.0)Note: you may need to restart the kernel to use updated packages.\n",
      "\n",
      "Requirement already satisfied: charset-normalizer<4,>=2 in c:\\users\\c-dot\\anaconda3\\lib\\site-packages (from requests) (2.0.4)\n",
      "Requirement already satisfied: idna<4,>=2.5 in c:\\users\\c-dot\\anaconda3\\lib\\site-packages (from requests) (3.4)\n",
      "Requirement already satisfied: urllib3<3,>=1.21.1 in c:\\users\\c-dot\\anaconda3\\lib\\site-packages (from requests) (1.26.16)\n",
      "Requirement already satisfied: certifi>=2017.4.17 in c:\\users\\c-dot\\anaconda3\\lib\\site-packages (from requests) (2023.7.22)\n"
     ]
    }
   ],
   "source": [
    "pip install requests\n"
   ]
  },
  {
   "cell_type": "code",
   "execution_count": 5,
   "id": "4f82f3dd",
   "metadata": {},
   "outputs": [
    {
     "name": "stdout",
     "output_type": "stream",
     "text": [
      "Requirement already satisfied: tk in c:\\users\\c-dot\\anaconda3\\lib\\site-packages (0.1.0)\n",
      "Note: you may need to restart the kernel to use updated packages.\n"
     ]
    }
   ],
   "source": [
    "pip install tk\n"
   ]
  },
  {
   "cell_type": "code",
   "execution_count": 6,
   "id": "06e0729c",
   "metadata": {},
   "outputs": [
    {
     "name": "stdout",
     "output_type": "stream",
     "text": [
      "Requirement already satisfied: requests in c:\\users\\c-dot\\anaconda3\\lib\\site-packages (2.31.0)Note: you may need to restart the kernel to use updated packages.\n",
      "\n",
      "Requirement already satisfied: charset-normalizer<4,>=2 in c:\\users\\c-dot\\anaconda3\\lib\\site-packages (from requests) (2.0.4)\n",
      "Requirement already satisfied: idna<4,>=2.5 in c:\\users\\c-dot\\anaconda3\\lib\\site-packages (from requests) (3.4)\n",
      "Requirement already satisfied: urllib3<3,>=1.21.1 in c:\\users\\c-dot\\anaconda3\\lib\\site-packages (from requests) (1.26.16)\n",
      "Requirement already satisfied: certifi>=2017.4.17 in c:\\users\\c-dot\\anaconda3\\lib\\site-packages (from requests) (2023.7.22)\n"
     ]
    }
   ],
   "source": [
    "pip install requests"
   ]
  },
  {
   "cell_type": "code",
   "execution_count": null,
   "id": "6ee94ac7",
   "metadata": {},
   "outputs": [],
   "source": [
    "import tkinter as tk\n",
    "from tkinter import ttk\n",
    "import requests, json\n",
    "from bs4 import BeautifulSoup as bs\n",
    "from tkinter import *\n",
    "\n",
    "class CurrencyConverter():\n",
    "    def __init__(self,url):\n",
    "        self.data= requests.get(url).json()\n",
    "        self.currencies = self.data['rates']\n",
    "        \n",
    "m = tk.Tk()\n",
    "m.title('Currency Converter')\n",
    "m.geometry(\"300x150\")\n",
    "m.eval('tk::PlaceWindow . center')\n",
    "\n",
    "Label(m, text='Source Currency  :').grid(row=0)\n",
    "Label(m, text='Target Currency  :').grid(row=1)\n",
    "Label(m, text='Amount  :').grid(row=2)\n",
    "Label(m, text='Result  :').grid(row=8)\n",
    "label=Label(m, text =\" \").grid(row=8, column=1)\n",
    "\n",
    "source_currency_entry = Entry(m)\n",
    "target_currency_entry = Entry(m)\n",
    "amount_entry = Entry(m)\n",
    "\n",
    "source_currency_entry.grid(row=0, column=1)\n",
    "target_currency_entry.grid(row=1, column=1)\n",
    "amount_entry.grid(row=2, column=1)\n",
    "\n",
    "\n",
    "def clear(): \n",
    "  source_currency_entry.delete(0, END)\n",
    "  target_currency_entry.delete(0, END)\n",
    "  amount_entry.delete(0, END)\n",
    "\n",
    "\n",
    "def convert():\n",
    "    source_currency = source_currency_entry.get()\n",
    "    target_currency = target_currency_entry.get()\n",
    "    amount = float(amount_entry.get())\n",
    "    \n",
    "    response = requests.get(f\"https://www.x-rates.com/calculator/?from={source_currency}&to={target_currency}&amount=1\")\n",
    "    soup = bs(response.text, \"html.parser\")\n",
    "    \n",
    "    text1 = soup.find(class_=\"ccOutputTrail\").previous_sibling\n",
    "    text2 = soup.find(class_=\"ccOutputTrail\").get_text(strip=True)\n",
    "    rate = \"{}{}\".format(text1,text2)\n",
    "    result=amount*float(rate)\n",
    "    #return result\n",
    "\n",
    "    res = Label(m, text =result,font='Helvetica 10 bold')   \n",
    "    res.grid(row=8, column=1)\n",
    "    \n",
    "           \n",
    "button = tk.Button(m, text='Convert', command=convert)\n",
    "button.grid(row=3, column=1)\n",
    "\n",
    "button2 = tk.Button(m, text='Clear', command=clear)\n",
    "button2.grid(row=4, column=1)\n",
    "\n",
    "m.mainloop()"
   ]
  },
  {
   "cell_type": "code",
   "execution_count": null,
   "id": "d21ca7d0",
   "metadata": {},
   "outputs": [],
   "source": []
  }
 ],
 "metadata": {
  "kernelspec": {
   "display_name": "Python 3 (ipykernel)",
   "language": "python",
   "name": "python3"
  },
  "language_info": {
   "codemirror_mode": {
    "name": "ipython",
    "version": 3
   },
   "file_extension": ".py",
   "mimetype": "text/x-python",
   "name": "python",
   "nbconvert_exporter": "python",
   "pygments_lexer": "ipython3",
   "version": "3.11.5"
  }
 },
 "nbformat": 4,
 "nbformat_minor": 5
}
